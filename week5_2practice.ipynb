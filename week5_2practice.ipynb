{
 "cells": [
  {
   "cell_type": "markdown",
   "metadata": {
    "deletable": false,
    "nbgrader": {
     "checksum": "2b665f7a237c7a032c7952d218adb3e9",
     "grade": false,
     "grade_id": "cell-2eb7d743fa08f005",
     "locked": true,
     "schema_version": 3,
     "solution": false,
     "task": false
    }
   },
   "source": [
    "### Week 5-2 Debugging\n",
    "🐛 Welcome to Python Debugging Practice! Each exercise contains bugs. Your job is to find and fix them.\n",
    "Remember the error types we learned:\n",
    "   - Syntax Error: Code doesn't follow Python grammar.\n",
    "   - Semantic Error: Code runs but doesn't do what we want.\n",
    "   - Programming & Runtime Error: Code crashes while running.\n",
    "\n",
    "Instructions for students:\n",
    "1. Run each cell and observe the error\n",
    "2. Identify the type of error (syntax, semantic, runtime)\n",
    "3. Come up with your own test cases\n",
    "4. Debug the code to make it work correctly\n",
    "5. Test again with the test cases"
   ]
  },
  {
   "cell_type": "markdown",
   "metadata": {
    "deletable": false,
    "nbgrader": {
     "checksum": "3d953560ab018d5f7494341cd4a6e604",
     "grade": false,
     "grade_id": "cell-5e9fb9f358538ea3",
     "locked": true,
     "schema_version": 3,
     "solution": false,
     "task": false
    }
   },
   "source": [
    "### Problem 1：Syntax Error\n",
    "Each example shows a common syntax mistake that prevents the code from running at all.\n",
    "Run and fix the codes."
   ]
  },
  {
   "cell_type": "code",
   "execution_count": 1,
   "metadata": {
    "tags": []
   },
   "outputs": [
    {
     "ename": "SyntaxError",
     "evalue": "expected ':' (1744234064.py, line 4)",
     "output_type": "error",
     "traceback": [
      "\u001b[0;36m  Cell \u001b[0;32mIn[1], line 4\u001b[0;36m\u001b[0m\n\u001b[0;31m    if a >= 20\u001b[0m\n\u001b[0m              ^\u001b[0m\n\u001b[0;31mSyntaxError\u001b[0m\u001b[0;31m:\u001b[0m expected ':'\n"
     ]
    }
   ],
   "source": [
    "# Case 1:\n",
    "a = 25\n",
    "\n",
    "if a >= 20\n",
    "    print(\"You can vote!\")"
   ]
  },
  {
   "cell_type": "code",
   "execution_count": 2,
   "metadata": {
    "tags": []
   },
   "outputs": [
    {
     "ename": "SyntaxError",
     "evalue": "unterminated string literal (detected at line 2) (675750211.py, line 2)",
     "output_type": "error",
     "traceback": [
      "\u001b[0;36m  Cell \u001b[0;32mIn[2], line 2\u001b[0;36m\u001b[0m\n\u001b[0;31m    message = \"Hello world!'\u001b[0m\n\u001b[0m              ^\u001b[0m\n\u001b[0;31mSyntaxError\u001b[0m\u001b[0;31m:\u001b[0m unterminated string literal (detected at line 2)\n"
     ]
    }
   ],
   "source": [
    "# Case 2:\n",
    "message = \"Hello world!'"
   ]
  },
  {
   "cell_type": "code",
   "execution_count": 3,
   "metadata": {
    "tags": []
   },
   "outputs": [
    {
     "ename": "IndentationError",
     "evalue": "expected an indented block after 'if' statement on line 2 (977067441.py, line 3)",
     "output_type": "error",
     "traceback": [
      "\u001b[0;36m  Cell \u001b[0;32mIn[3], line 3\u001b[0;36m\u001b[0m\n\u001b[0;31m    print('x is big')\u001b[0m\n\u001b[0m    ^\u001b[0m\n\u001b[0;31mIndentationError\u001b[0m\u001b[0;31m:\u001b[0m expected an indented block after 'if' statement on line 2\n"
     ]
    }
   ],
   "source": [
    "# Case 3:\n",
    "if x > 5:\n",
    "print('x is big')"
   ]
  },
  {
   "cell_type": "code",
   "execution_count": 4,
   "metadata": {
    "tags": []
   },
   "outputs": [
    {
     "ename": "SyntaxError",
     "evalue": "closing parenthesis ')' does not match opening parenthesis '[' (2373109602.py, line 2)",
     "output_type": "error",
     "traceback": [
      "\u001b[0;36m  Cell \u001b[0;32mIn[4], line 2\u001b[0;36m\u001b[0m\n\u001b[0;31m    my_list = [1,2,3)\u001b[0m\n\u001b[0m                    ^\u001b[0m\n\u001b[0;31mSyntaxError\u001b[0m\u001b[0;31m:\u001b[0m closing parenthesis ')' does not match opening parenthesis '['\n"
     ]
    }
   ],
   "source": [
    "# Case 4:\n",
    "my_list = [1,2,3)"
   ]
  },
  {
   "cell_type": "markdown",
   "metadata": {
    "nbgrader": {
     "checksum": "3d953560ab018d5f7494341cd4a6e604",
     "grade": false,
     "grade_id": "cell-5e9fb9f358538ea3",
     "locked": true,
     "schema_version": 3,
     "solution": false,
     "task": false
    }
   },
   "source": [
    "### Problem 2：Semantics Error\n"
   ]
  },
  {
   "cell_type": "markdown",
   "metadata": {
    "nbgrader": {
     "checksum": "3d953560ab018d5f7494341cd4a6e604",
     "grade": false,
     "grade_id": "cell-5e9fb9f358538ea3",
     "locked": true,
     "schema_version": 3,
     "solution": false,
     "task": false
    }
   },
   "source": [
    "#### Problem 2.1：Reverse words in a string.\n",
    "Write a test case and debug the buggy function to make it work correctly.\n"
   ]
  },
  {
   "cell_type": "code",
   "execution_count": 8,
   "metadata": {
    "tags": []
   },
   "outputs": [],
   "source": [
    "def reverse_words_buggy(sentence):\n",
    "    \"\"\"Reverse words in a string.\"\"\"\n",
    "    words = sentence.split()\n",
    "    reversed_words = words.reverse()\n",
    "    result = \" \".join(reversed_words)\n",
    "    return result"
   ]
  },
  {
   "cell_type": "code",
   "execution_count": 12,
   "metadata": {
    "tags": []
   },
   "outputs": [],
   "source": [
    "# Debugged code\n",
    "def reverse_words_buggy(sentence):\n",
    "    \"\"\"Reverse words in a string.\"\"\"\n",
    "    words = sentence.split()\n",
    "    # print(words)\n",
    "    reversed_words = reversed(words)\n",
    "    result = \" \".join(reversed_words)\n",
    "    return result"
   ]
  },
  {
   "cell_type": "code",
   "execution_count": 14,
   "metadata": {
    "tags": []
   },
   "outputs": [
    {
     "name": "stdout",
     "output_type": "stream",
     "text": [
      "['maybe', 'it', 'is', 'something', 'fancy']\n",
      "<list_reverseiterator object at 0x108599db0>\n",
      "🔸 Final result: fancy something is it maybe\n"
     ]
    }
   ],
   "source": [
    "# Test with the buggy function.\n",
    "test_sentence = 'maybe it is something fancy' # YOUR TEST CODE HERE\n",
    "result = reverse_words_buggy(test_sentence)\n",
    "print(f\"🔸 Final result: {result}\")"
   ]
  },
  {
   "cell_type": "markdown",
   "metadata": {},
   "source": [
    "#### Problem 2.2：Indexing and slicing.\n",
    "Write test cases and debug the buggy functions to make them work correctly."
   ]
  },
  {
   "cell_type": "code",
   "execution_count": 15,
   "metadata": {
    "tags": []
   },
   "outputs": [
    {
     "ename": "IndexError",
     "evalue": "list index out of range",
     "output_type": "error",
     "traceback": [
      "\u001b[0;31m---------------------------------------------------------------------------\u001b[0m",
      "\u001b[0;31mIndexError\u001b[0m                                Traceback (most recent call last)",
      "Cell \u001b[0;32mIn[15], line 8\u001b[0m\n\u001b[1;32m      6\u001b[0m \u001b[38;5;66;03m# Test with the buggy function\u001b[39;00m\n\u001b[1;32m      7\u001b[0m items \u001b[38;5;241m=\u001b[39m [\u001b[38;5;241m1\u001b[39m, \u001b[38;5;241m2\u001b[39m, \u001b[38;5;241m3\u001b[39m, \u001b[38;5;241m4\u001b[39m] \u001b[38;5;66;03m# YOUR TEST CODE HERE\u001b[39;00m\n\u001b[0;32m----> 8\u001b[0m result \u001b[38;5;241m=\u001b[39m get_last_element(items)\n\u001b[1;32m      9\u001b[0m \u001b[38;5;28mprint\u001b[39m(\u001b[38;5;124mf\u001b[39m\u001b[38;5;124m\"\u001b[39m\u001b[38;5;124m🔸 Final result: \u001b[39m\u001b[38;5;132;01m{\u001b[39;00mresult\u001b[38;5;132;01m}\u001b[39;00m\u001b[38;5;124m\"\u001b[39m)\n",
      "Cell \u001b[0;32mIn[15], line 4\u001b[0m, in \u001b[0;36mget_last_element\u001b[0;34m(items)\u001b[0m\n\u001b[1;32m      2\u001b[0m \u001b[38;5;250m\u001b[39m\u001b[38;5;124;03m\"\"\"Get the last element from a list\"\"\"\u001b[39;00m\n\u001b[1;32m      3\u001b[0m last_index \u001b[38;5;241m=\u001b[39m \u001b[38;5;28mlen\u001b[39m(items)\n\u001b[0;32m----> 4\u001b[0m \u001b[38;5;28;01mreturn\u001b[39;00m items[last_index]\n",
      "\u001b[0;31mIndexError\u001b[0m: list index out of range"
     ]
    }
   ],
   "source": [
    "def get_last_element(items):\n",
    "    \"\"\"Get the last element from a list\"\"\"\n",
    "    last_index = len(items)\n",
    "    return items[last_index]\n",
    "\n",
    "# Test with the buggy function\n",
    "items = [1, 2, 3, 4] # YOUR TEST CODE HERE\n",
    "result = get_last_element(items)\n",
    "print(f\"🔸 Final result: {result}\")"
   ]
  },
  {
   "cell_type": "code",
   "execution_count": 16,
   "metadata": {
    "tags": []
   },
   "outputs": [
    {
     "name": "stdout",
     "output_type": "stream",
     "text": [
      "🔸 Final result: 4\n"
     ]
    }
   ],
   "source": [
    "# Debugged code\n",
    "def get_last_element(items):\n",
    "    \"\"\"Get the last element from a list\"\"\"\n",
    "    last_index = len(items)\n",
    "    return items[last_index - 1]\n",
    "\n",
    "# Test with the buggy function\n",
    "items = [1, 2, 3, 4] # YOUR TEST CODE HERE\n",
    "result = get_last_element(items)\n",
    "print(f\"🔸 Final result: {result}\")"
   ]
  },
  {
   "cell_type": "code",
   "execution_count": 24,
   "metadata": {
    "tags": []
   },
   "outputs": [
    {
     "name": "stdout",
     "output_type": "stream",
     "text": [
      "🔸 Final result: yam\n"
     ]
    }
   ],
   "source": [
    "def get_last_n_chars(text, n):\n",
    "    \"\"\"Get the last n characters from a string\"\"\"\n",
    "    return text[:-n:-1]\n",
    "    \n",
    "# Test with the buggy function\n",
    "my_str = \"may\" # YOUR TEST CODE HERE\n",
    "result = get_last_n_chars(my_str, 6)\n",
    "print(f\"🔸 Final result: {result}\")"
   ]
  },
  {
   "cell_type": "code",
   "execution_count": 32,
   "metadata": {
    "tags": []
   },
   "outputs": [
    {
     "name": "stdout",
     "output_type": "stream",
     "text": [
      "🔸 Final result: ething\n"
     ]
    }
   ],
   "source": [
    "# DEBUGGED CODE\n",
    "def get_last_n_chars(text, n):\n",
    "    \"\"\"Get the last n characters from a string\"\"\"\n",
    "    to_return = reversed(text[:-n-1:-1])\n",
    "    return ''.join(to_return)\n",
    "    \n",
    "# Test with the buggy function\n",
    "my_str = \"maybe something\"# YOUR TEST CODE HERE\n",
    "result = get_last_n_chars(my_str, 6)\n",
    "print(f\"🔸 Final result: {result}\")"
   ]
  },
  {
   "cell_type": "markdown",
   "metadata": {},
   "source": [
    "#### 2.3 Class inheritance bugs\n",
    "There are two bugs on our inherited class, find and fix them."
   ]
  },
  {
   "cell_type": "code",
   "execution_count": 33,
   "metadata": {
    "tags": []
   },
   "outputs": [
    {
     "name": "stdout",
     "output_type": "stream",
     "text": [
      "Testing animal hierarchy...\n",
      "Initial animals:\n",
      "  Buddy the dog (Energy: 100)\n",
      "\n",
      "Sounds:\n",
      "  Dog says: Woof! Woof!\n",
      "\n",
      "Testing dog tricks:\n",
      "  Buddy performs sit!\n",
      "  Buddy doesn't know jump\n",
      "  Dog after tricks: Buddy the dog (Energy: 90)\n"
     ]
    }
   ],
   "source": [
    "# Base class\n",
    "class Animal:\n",
    "    \"\"\"Base animal class\"\"\"\n",
    "    def __init__(self, name, species):\n",
    "        self.name = name\n",
    "        self.species = species\n",
    "        self.energy = 100\n",
    "    \n",
    "    def make_sound(self):\n",
    "        return \"Some generic animal sound\"\n",
    "    \n",
    "    def eat(self, food_energy):\n",
    "        self.energy += food_energy\n",
    "        if self.energy > 100:\n",
    "            self.energy = 100\n",
    "    \n",
    "    def sleep(self):\n",
    "        self.energy = 100\n",
    "    \n",
    "    def __str__(self):\n",
    "        return f\"{self.name} the {self.species} (Energy: {self.energy})\"\n",
    "\n",
    "\n",
    "# Inherited class \n",
    "class Dog(Animal):\n",
    "    \"\"\"Dog class with specific behaviors\"\"\"\n",
    "    def __init__(self, name, breed):\n",
    "        # super().__init__(name, breed) # BUGGED CODE SINCE BREED SHOULD NOT BE RETURN AS SPECIES\n",
    "        super().__init__(name, \"dog\")\n",
    "        self.breed = breed\n",
    "        self.tricks = []\n",
    "    \n",
    "    def make_sound(self):\n",
    "        # \"Woof! Woof!\" # BUGGED CODE\n",
    "        return \"Woof! Woof!\"\n",
    "    \n",
    "    def learn_trick(self, trick):\n",
    "        if trick not in self.tricks:\n",
    "            self.tricks.append(trick)\n",
    "    \n",
    "    def perform_trick(self, trick):\n",
    "        if trick in self.tricks:\n",
    "            self.energy -= 10\n",
    "            return f\"{self.name} performs {trick}!\"\n",
    "        else:\n",
    "            return f\"{self.name} doesn't know {trick}\"\n",
    "\n",
    "\n",
    "# Test cases\n",
    "print(\"Testing animal hierarchy...\")\n",
    "try:\n",
    "    # Create animals\n",
    "    dog = Dog(\"Buddy\", \"Golden Retriever\")\n",
    "    \n",
    "    print(\"Initial animals:\")\n",
    "    print(f\"  {dog}\")\n",
    "    \n",
    "    print(\"\\nSounds:\")\n",
    "    print(f\"  Dog says: {dog.make_sound()}\")\n",
    "    \n",
    "    print(\"\\nTesting dog tricks:\")\n",
    "    dog.learn_trick(\"sit\")\n",
    "    dog.learn_trick(\"roll over\")\n",
    "    print(f\"  {dog.perform_trick('sit')}\")\n",
    "    print(f\"  {dog.perform_trick('jump')}\") # Dog doesn't know this\n",
    "    print(f\"  Dog after tricks: {dog}\")\n",
    "    \n",
    "except Exception as e:\n",
    "    print(f\"Error: {e}\")\n",
    "    print(\"Check inheritance and method calls!\")"
   ]
  },
  {
   "cell_type": "markdown",
   "metadata": {},
   "source": [
    "### Problem 3：Programming & Runtime Error\n",
    "Debug the buggy function, modify corner cases or function logic to make sure function will not crash at runtime. "
   ]
  },
  {
   "cell_type": "markdown",
   "metadata": {},
   "source": [
    "#### 3.1 Dict"
   ]
  },
  {
   "cell_type": "code",
   "execution_count": 34,
   "metadata": {
    "tags": []
   },
   "outputs": [
    {
     "name": "stdout",
     "output_type": "stream",
     "text": [
      "Alice's grade is 95\n"
     ]
    },
    {
     "ename": "KeyError",
     "evalue": "'Diana'",
     "output_type": "error",
     "traceback": [
      "\u001b[0;31m---------------------------------------------------------------------------\u001b[0m",
      "\u001b[0;31mKeyError\u001b[0m                                  Traceback (most recent call last)",
      "Cell \u001b[0;32mIn[34], line 7\u001b[0m\n\u001b[1;32m      5\u001b[0m grades \u001b[38;5;241m=\u001b[39m {\u001b[38;5;124m\"\u001b[39m\u001b[38;5;124mAlice\u001b[39m\u001b[38;5;124m\"\u001b[39m: \u001b[38;5;241m95\u001b[39m, \u001b[38;5;124m\"\u001b[39m\u001b[38;5;124mBob\u001b[39m\u001b[38;5;124m\"\u001b[39m: \u001b[38;5;241m87\u001b[39m}\n\u001b[1;32m      6\u001b[0m \u001b[38;5;28mprint\u001b[39m(get_student_grade(grades, \u001b[38;5;124m\"\u001b[39m\u001b[38;5;124mAlice\u001b[39m\u001b[38;5;124m\"\u001b[39m))\n\u001b[0;32m----> 7\u001b[0m \u001b[38;5;28mprint\u001b[39m(get_student_grade(grades, \u001b[38;5;124m\"\u001b[39m\u001b[38;5;124mDiana\u001b[39m\u001b[38;5;124m\"\u001b[39m))\n",
      "Cell \u001b[0;32mIn[34], line 2\u001b[0m, in \u001b[0;36mget_student_grade\u001b[0;34m(student_grades, student_name)\u001b[0m\n\u001b[1;32m      1\u001b[0m \u001b[38;5;28;01mdef\u001b[39;00m \u001b[38;5;21mget_student_grade\u001b[39m(student_grades, student_name):\n\u001b[0;32m----> 2\u001b[0m     grade \u001b[38;5;241m=\u001b[39m student_grades[student_name]\n\u001b[1;32m      3\u001b[0m     \u001b[38;5;28;01mreturn\u001b[39;00m \u001b[38;5;124mf\u001b[39m\u001b[38;5;124m\"\u001b[39m\u001b[38;5;132;01m{\u001b[39;00mstudent_name\u001b[38;5;132;01m}\u001b[39;00m\u001b[38;5;124m'\u001b[39m\u001b[38;5;124ms grade is \u001b[39m\u001b[38;5;132;01m{\u001b[39;00mgrade\u001b[38;5;132;01m}\u001b[39;00m\u001b[38;5;124m\"\u001b[39m\n",
      "\u001b[0;31mKeyError\u001b[0m: 'Diana'"
     ]
    }
   ],
   "source": [
    "def get_student_grade(student_grades, student_name):\n",
    "    grade = student_grades[student_name]\n",
    "    return f\"{student_name}'s grade is {grade}\"\n",
    "\n",
    "grades = {\"Alice\": 95, \"Bob\": 87}\n",
    "print(get_student_grade(grades, \"Alice\"))\n",
    "print(get_student_grade(grades, \"Diana\"))"
   ]
  },
  {
   "cell_type": "code",
   "execution_count": 51,
   "metadata": {
    "tags": []
   },
   "outputs": [
    {
     "name": "stdout",
     "output_type": "stream",
     "text": [
      "Alice's grade is 95\n",
      "Diana is not in the class\n"
     ]
    }
   ],
   "source": [
    "#DEBUGGED CODE\n",
    "\n",
    "def get_student_grade(student_grades, student_name):\n",
    "    \"\"\"\n",
    "    Add docstring\n",
    "        Args: \n",
    "            student_grades: Dict. Key: student name (str), Value: grade (float/int)\n",
    "            student_name: str\n",
    "        Return: \n",
    "            student_grades[student_name] if student_name is in student_grades\n",
    "            If not, return \"Default str: Student not in class\"\n",
    "    \"\"\"\n",
    "    if student_name in student_grades.keys():\n",
    "        grade = student_grades[student_name]\n",
    "        return f\"{student_name}'s grade is {grade}\"\n",
    "    else: \n",
    "        return f\"{student_name} is not in the class\"\n",
    "\n",
    "grades = {\"Alice\": 95, \"Bob\": 87}\n",
    "print(get_student_grade(grades, \"Alice\"))\n",
    "print(get_student_grade(grades, \"Diana\"))"
   ]
  },
  {
   "cell_type": "markdown",
   "metadata": {},
   "source": [
    "#### 3.2 Handle Corner case."
   ]
  },
  {
   "cell_type": "code",
   "execution_count": 40,
   "metadata": {
    "tags": []
   },
   "outputs": [
    {
     "name": "stdout",
     "output_type": "stream",
     "text": [
      "20.0\n"
     ]
    },
    {
     "ename": "ZeroDivisionError",
     "evalue": "division by zero",
     "output_type": "error",
     "traceback": [
      "\u001b[0;31m---------------------------------------------------------------------------\u001b[0m",
      "\u001b[0;31mZeroDivisionError\u001b[0m                         Traceback (most recent call last)",
      "Cell \u001b[0;32mIn[40], line 8\u001b[0m\n\u001b[1;32m      5\u001b[0m     \u001b[38;5;28;01mreturn\u001b[39;00m average\n\u001b[1;32m      7\u001b[0m \u001b[38;5;28mprint\u001b[39m(calculate_average([\u001b[38;5;241m10\u001b[39m, \u001b[38;5;241m20\u001b[39m, \u001b[38;5;241m30\u001b[39m]))\n\u001b[0;32m----> 8\u001b[0m \u001b[38;5;28mprint\u001b[39m(calculate_average([]))\n",
      "Cell \u001b[0;32mIn[40], line 4\u001b[0m, in \u001b[0;36mcalculate_average\u001b[0;34m(numbers)\u001b[0m\n\u001b[1;32m      2\u001b[0m total \u001b[38;5;241m=\u001b[39m \u001b[38;5;28msum\u001b[39m(numbers)\n\u001b[1;32m      3\u001b[0m count \u001b[38;5;241m=\u001b[39m \u001b[38;5;28mlen\u001b[39m(numbers)\n\u001b[0;32m----> 4\u001b[0m average \u001b[38;5;241m=\u001b[39m total \u001b[38;5;241m/\u001b[39m count\n\u001b[1;32m      5\u001b[0m \u001b[38;5;28;01mreturn\u001b[39;00m average\n",
      "\u001b[0;31mZeroDivisionError\u001b[0m: division by zero"
     ]
    }
   ],
   "source": [
    "def calculate_average(numbers):\n",
    "    total = sum(numbers)\n",
    "    count = len(numbers)\n",
    "    average = total / count\n",
    "    return average\n",
    "\n",
    "print(calculate_average([10, 20, 30]))\n",
    "print(calculate_average([]))"
   ]
  },
  {
   "cell_type": "code",
   "execution_count": 42,
   "metadata": {
    "tags": []
   },
   "outputs": [
    {
     "name": "stdout",
     "output_type": "stream",
     "text": [
      "20.0\n",
      "There's no element in the list\n"
     ]
    }
   ],
   "source": [
    "# DEBUGGED CODE\n",
    "def calculate_average(numbers):\n",
    "    total = sum(numbers)\n",
    "    count = len(numbers)\n",
    "    if count > 0:         \n",
    "        average = total / count\n",
    "        return average\n",
    "    else: \n",
    "        return \"There's no element in the list\"\n",
    "\n",
    "print(calculate_average([10, 20, 30]))\n",
    "print(calculate_average([]))"
   ]
  },
  {
   "cell_type": "markdown",
   "metadata": {},
   "source": [
    "#### 3.3 Handle Corner case."
   ]
  },
  {
   "cell_type": "code",
   "execution_count": 43,
   "metadata": {
    "tags": []
   },
   "outputs": [],
   "source": [
    "def factorial_buggy(n):\n",
    "    \"\"\"Calculate factorial of n - BUGGY VERSION\"\"\"\n",
    "    return n * factorial_buggy(n - 1)"
   ]
  },
  {
   "cell_type": "code",
   "execution_count": 49,
   "metadata": {
    "tags": []
   },
   "outputs": [],
   "source": [
    "# DEBUGGED CODE\n",
    "def factorial_buggy(n):\n",
    "    \"\"\"Calculate factorial of n - BUGGY VERSION\"\"\"\n",
    "    if n == 2: \n",
    "        return n\n",
    "    else: \n",
    "        return n * factorial_buggy(n - 1)"
   ]
  },
  {
   "cell_type": "code",
   "execution_count": 50,
   "metadata": {
    "tags": []
   },
   "outputs": [
    {
     "data": {
      "text/plain": [
       "6"
      ]
     },
     "execution_count": 50,
     "metadata": {},
     "output_type": "execute_result"
    }
   ],
   "source": [
    "factorial_buggy(3)"
   ]
  }
 ],
 "metadata": {
  "kernelspec": {
   "display_name": "Python 3 (ipykernel)",
   "language": "python",
   "name": "python3"
  },
  "language_info": {
   "codemirror_mode": {
    "name": "ipython",
    "version": 3
   },
   "file_extension": ".py",
   "mimetype": "text/x-python",
   "name": "python",
   "nbconvert_exporter": "python",
   "pygments_lexer": "ipython3",
   "version": "3.11.5"
  }
 },
 "nbformat": 4,
 "nbformat_minor": 4
}
