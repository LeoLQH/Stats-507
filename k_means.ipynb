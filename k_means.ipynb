{
 "cells": [
  {
   "cell_type": "code",
   "execution_count": 19,
   "id": "823af0e1-a3a5-4020-bc1d-4b54debc47c2",
   "metadata": {
    "tags": []
   },
   "outputs": [],
   "source": [
    "import numpy as np\n",
    "from numpy import linalg as LA"
   ]
  },
  {
   "cell_type": "code",
   "execution_count": 65,
   "id": "e35df5e3-ebf1-4d67-99f9-fded8098f9b7",
   "metadata": {
    "tags": []
   },
   "outputs": [
    {
     "name": "stdout",
     "output_type": "stream",
     "text": [
      "[[1 0 0 0 0]\n",
      " [0 2 0 0 0]\n",
      " [0 0 3 0 0]\n",
      " [0 0 0 4 0]\n",
      " [0 0 0 0 5]]\n",
      "[[ 2  0]\n",
      " [ 0 10]]\n",
      "[4 2 1]\n",
      "[[0 0 0 0 5]\n",
      " [0 0 3 0 0]\n",
      " [0 2 0 0 0]]\n",
      "[[ 1  0  0  0 -5]\n",
      " [ 0  2  0  0 -5]\n",
      " [ 0  0  3  0 -5]\n",
      " [ 0  0  0  4 -5]\n",
      " [ 0  0  0  0  0]]\n",
      "[5.09901951 5.38516481 5.83095189 6.40312424 0.        ]\n",
      "[[ 1  0 -3  0  0]\n",
      " [ 0  2 -3  0  0]\n",
      " [ 0  0  0  0  0]\n",
      " [ 0  0 -3  4  0]\n",
      " [ 0  0 -3  0  5]]\n",
      "[3.16227766 3.60555128 0.         5.         5.83095189]\n",
      "[[ 1 -2  0  0  0]\n",
      " [ 0  0  0  0  0]\n",
      " [ 0 -2  3  0  0]\n",
      " [ 0 -2  0  4  0]\n",
      " [ 0 -2  0  0  5]]\n",
      "[2.23606798 0.         3.60555128 4.47213595 5.38516481]\n"
     ]
    }
   ],
   "source": [
    "X1 = np.diag([1, 2, 3, 4, 5])\n",
    "X2 = np.diag([2, 10])\n",
    "Rn = X1.shape[1]\n",
    "obs = X1.shape[0]\n",
    "initial = np.random.choice(obs, 3, replace = False)\n",
    "print(X1)\n",
    "print(X2)\n",
    "print(initial)\n",
    "initial = X1[initial, ]\n",
    "print(initial)\n",
    "for i in initial:\n",
    "    print(X1 - i)\n",
    "    print(LA.norm(X1 - i, axis = 1))"
   ]
  },
  {
   "cell_type": "code",
   "execution_count": 52,
   "id": "d962fd18-b650-4cb2-9191-ecedb91a02e8",
   "metadata": {
    "tags": []
   },
   "outputs": [
    {
     "name": "stdout",
     "output_type": "stream",
     "text": [
      "[[1 0 0 0 0]\n",
      " [0 2 0 0 0]\n",
      " [0 0 3 0 0]\n",
      " [0 0 0 4 0]\n",
      " [0 0 0 0 5]]\n"
     ]
    },
    {
     "data": {
      "text/plain": [
       "array([0, 4, 1])"
      ]
     },
     "execution_count": 52,
     "metadata": {},
     "output_type": "execute_result"
    }
   ],
   "source": [
    "np.ones(2)\n",
    "X1 = np.diag([1, 2, 3, 4, 5])\n",
    "print(X1)\n",
    "obs = X1.shape[0]\n",
    "np.full_like(np.ones(obs), 1/obs)\n",
    "np.random.choice(obs, 3, replace = False)"
   ]
  },
  {
   "cell_type": "code",
   "execution_count": 80,
   "id": "30a7ce89-fe7a-420e-8aea-79b742e2dd81",
   "metadata": {
    "tags": []
   },
   "outputs": [
    {
     "data": {
      "text/plain": [
       "array([[0., 0., 0.],\n",
       "       [0., 0., 0.]])"
      ]
     },
     "execution_count": 80,
     "metadata": {},
     "output_type": "execute_result"
    }
   ],
   "source": [
    "X = np.zeros((2, 3))\n",
    "X"
   ]
  },
  {
   "cell_type": "code",
   "execution_count": 93,
   "id": "b5df2477-8ebb-48f5-babe-01e6525ca087",
   "metadata": {
    "tags": []
   },
   "outputs": [
    {
     "name": "stdout",
     "output_type": "stream",
     "text": [
      "[[0 1 2]\n",
      " [3 4 5]\n",
      " [6 7 8]]\n"
     ]
    },
    {
     "data": {
      "text/plain": [
       "2"
      ]
     },
     "execution_count": 93,
     "metadata": {},
     "output_type": "execute_result"
    }
   ],
   "source": [
    "a = np.arange(9).reshape(3,3)\n",
    "print(a)\n",
    "a[:, 0].argmax()"
   ]
  },
  {
   "cell_type": "code",
   "execution_count": null,
   "id": "4ef85828-c6d0-4233-ba60-7cff99d42712",
   "metadata": {},
   "outputs": [],
   "source": [
    "# Implement the class\n",
    "class kMeans():\n",
    "    def __init__(self, n_clusters = 3, max_iter = 100):\n",
    "        self.n_clusters = n_clusters\n",
    "        # Other init...\n",
    "        \n",
    "    def fit(self, X):\n",
    "        # Randomly select k (n_clusters) from my X to be my centroids\n",
    "        obs = X.shape[0]\n",
    "        centroids = np.random.choice(obs, 3, replace = False)\n",
    "        centroids = X1[centroids, ]\n",
    "        distance = np.zeros((self.n_clusters, obs))\n",
    "        for i in range(max_iter):\n",
    "            # Update centroids\n",
    "            # Calculate distances from X to my centroids. (broadcasting)\n",
    "            for i in range(self.n_clusters):\n",
    "                dist = LA.norm(X - centroids[i, ], axis = 1)\n",
    "                distance[i, ] = dist\n",
    "            \n",
    "            for i in range(obs):\n",
    "                labels = distance[:, i].argmax()    \n",
    "            # Label my data to which centroid it belongs using \n",
    "\n",
    "            # Update centroids based on the labels \n",
    "            \n",
    "            \n",
    "            if np.allclose(new_centroid, self.centroids):\n",
    "                break\n",
    "        \n",
    "        pass\n",
    "        \n",
    "    def predict(self, test_data):\n",
    "        pass\n",
    "    # YOUR CODE HERE"
   ]
  },
  {
   "cell_type": "code",
   "execution_count": null,
   "id": "1c4b9d12-c57c-4911-a78c-5ebf98f27f1b",
   "metadata": {},
   "outputs": [],
   "source": [
    "# test the class\n",
    "def test_kmeans():\n",
    "    # Test 1: Basic clustering with clearly separated points\n",
    "    X = np.array([\n",
    "        [0, 0], [1, 0], [0, 1],      # Cluster 1\n",
    "        [5, 5], [6, 5], [5, 6],      # Cluster 2\n",
    "        [10, 10], [11, 10], [10, 11]  # Cluster 3\n",
    "    ])\n",
    "    \n",
    "    np.random.seed(42)\n",
    "    kmeans = KMeans(n_clusters=3)\n",
    "    kmeans.fit(X)\n",
    "    \n",
    "    # Test number of centroids\n",
    "    assert len(kmeans.centroids) == 3, \"Should have 3 centroids\"\n",
    "    \n",
    "    # Test centroid shapes\n",
    "    assert kmeans.centroids.shape == (3, 2), \"Centroids should be 2D\"\n",
    "\n",
    "    X_test = np.random.normal(4, 1, (10, 2))\n",
    "    \n",
    "    # Predict clusters for test data\n",
    "    predictions = kmeans.predict(X_test)\n",
    "    print(\"Predictions for test data:\", predictions)\n",
    "    \n",
    "    # Test 2: Random data\n",
    "    np.random.seed(42)\n",
    "    X_random = np.random.randn(100, 2) * 3\n",
    "    X_random[:33] += np.array([10, 10])\n",
    "    X_random[33:66] += np.array([-10, -10])\n",
    "    \n",
    "    kmeans = KMeans(n_clusters=3)\n",
    "    kmeans.fit(X_random)\n",
    "    \n",
    "    distances = np.linalg.norm(X_random[:, np.newaxis] - kmeans.centroids, axis=2)\n",
    "    labels = np.argmin(distances, axis=1)\n",
    "    \n",
    "    # Test cluster sizes are reasonable\n",
    "    unique, counts = np.unique(labels, return_counts=True)\n",
    "    assert len(unique) == 3, \"Should have 3 unique clusters\"\n",
    "    assert all(counts > 5), \"Each cluster should have multiple points\"\n",
    "    \n",
    "    print(\"All tests passed!\")\n",
    "    \n",
    "\n",
    "if __name__ == \"__main__\":\n",
    "    test_kmeans()"
   ]
  }
 ],
 "metadata": {
  "kernelspec": {
   "display_name": "Python 3 (ipykernel)",
   "language": "python",
   "name": "python3"
  },
  "language_info": {
   "codemirror_mode": {
    "name": "ipython",
    "version": 3
   },
   "file_extension": ".py",
   "mimetype": "text/x-python",
   "name": "python",
   "nbconvert_exporter": "python",
   "pygments_lexer": "ipython3",
   "version": "3.11.5"
  }
 },
 "nbformat": 4,
 "nbformat_minor": 5
}
