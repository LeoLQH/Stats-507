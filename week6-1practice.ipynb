{
 "cells": [
  {
   "cell_type": "markdown",
   "metadata": {
    "deletable": false,
    "nbgrader": {
     "checksum": "2b665f7a237c7a032c7952d218adb3e9",
     "grade": false,
     "grade_id": "cell-2eb7d743fa08f005",
     "locked": true,
     "schema_version": 3,
     "solution": false,
     "task": false
    }
   },
   "source": [
    "### Week 6-1 NumPy Practice Problems"
   ]
  },
  {
   "cell_type": "code",
   "execution_count": 1,
   "metadata": {
    "deletable": false,
    "nbgrader": {
     "checksum": "4d81e32309a33c2ea6ee015f08fba0d3",
     "grade": false,
     "grade_id": "cell-17b047d8577e133c",
     "locked": true,
     "schema_version": 3,
     "solution": false,
     "task": false
    },
    "tags": []
   },
   "outputs": [],
   "source": [
    "import numpy as np"
   ]
  },
  {
   "cell_type": "markdown",
   "metadata": {
    "deletable": false,
    "nbgrader": {
     "checksum": "3d953560ab018d5f7494341cd4a6e604",
     "grade": false,
     "grade_id": "cell-5e9fb9f358538ea3",
     "locked": true,
     "schema_version": 3,
     "solution": false,
     "task": false
    }
   },
   "source": [
    "### Warm up\n",
    "NumPy creation and indexing."
   ]
  },
  {
   "cell_type": "code",
   "execution_count": 7,
   "metadata": {
    "tags": []
   },
   "outputs": [
    {
     "data": {
      "text/plain": [
       "array([[0, 0, 0],\n",
       "       [0, 0, 0],\n",
       "       [0, 0, 0]])"
      ]
     },
     "execution_count": 7,
     "metadata": {},
     "output_type": "execute_result"
    }
   ],
   "source": [
    "# 1. Creates 3x3 array of zeros\n",
    "np.zeros((3, 3), dtype = int)\n",
    "# YOUR CODE HERE"
   ]
  },
  {
   "cell_type": "code",
   "execution_count": 5,
   "metadata": {
    "tags": []
   },
   "outputs": [
    {
     "data": {
      "text/plain": [
       "array([0, 2, 4, 6, 8])"
      ]
     },
     "execution_count": 5,
     "metadata": {},
     "output_type": "execute_result"
    }
   ],
   "source": [
    "# 2. Creates array [0, 2, 4, 6, 8]\n",
    "np.arange(0, 10, 2)\n",
    "# YOUR CODE HERE"
   ]
  },
  {
   "cell_type": "code",
   "execution_count": 6,
   "metadata": {
    "tags": []
   },
   "outputs": [
    {
     "data": {
      "text/plain": [
       "array([0. , 0.2, 0.4, 0.6, 0.8, 1. ])"
      ]
     },
     "execution_count": 6,
     "metadata": {},
     "output_type": "execute_result"
    }
   ],
   "source": [
    "# 3. 5 evenly spaced numbers from 0 to 1\n",
    "np.arange(0, 1.2, 0.2)\n",
    "# YOUR CODE HERE"
   ]
  },
  {
   "cell_type": "code",
   "execution_count": 15,
   "metadata": {
    "tags": []
   },
   "outputs": [
    {
     "data": {
      "text/plain": [
       "array([6, 7, 8, 9])"
      ]
     },
     "execution_count": 15,
     "metadata": {},
     "output_type": "execute_result"
    }
   ],
   "source": [
    "# Array indexing, Gets elements > 5\n",
    "arr = np.array([[1, 2, 3], \n",
    "                   [4, 5, 6], \n",
    "                   [7, 8, 9]])\n",
    "arr[(arr > 5)]"
   ]
  },
  {
   "cell_type": "markdown",
   "metadata": {
    "nbgrader": {
     "checksum": "3d953560ab018d5f7494341cd4a6e604",
     "grade": false,
     "grade_id": "cell-5e9fb9f358538ea3",
     "locked": true,
     "schema_version": 3,
     "solution": false,
     "task": false
    }
   },
   "source": [
    "### Problem 1\n",
    "Convert an array of Celsius measurements to Fahrenheit.\n",
    "Note: `fahrenheit = (Celsius * 9/5) + 32`."
   ]
  },
  {
   "cell_type": "code",
   "execution_count": 22,
   "metadata": {
    "tags": []
   },
   "outputs": [],
   "source": [
    "def convert_to_fahrenheit_list(temperatures):\n",
    "    fah = [i * 9 / 5 + 32 for i in temperatures]\n",
    "    return fah\n",
    "    # raise NotImplementedError()"
   ]
  },
  {
   "cell_type": "code",
   "execution_count": 23,
   "metadata": {
    "tags": []
   },
   "outputs": [
    {
     "name": "stdout",
     "output_type": "stream",
     "text": [
      "Testing with a regular list:\n",
      "[32.0, 50.0, 68.0, 86.0]\n"
     ]
    }
   ],
   "source": [
    "print(\"Testing with a regular list:\")\n",
    "temps_list = [0, 10, 20, 30]\n",
    "print(convert_to_fahrenheit_list(temps_list))"
   ]
  },
  {
   "cell_type": "code",
   "execution_count": 29,
   "metadata": {
    "tags": []
   },
   "outputs": [],
   "source": [
    "def convert_to_fahrenheit_numpy_array(temperatures):\n",
    "    fah = np.array(temperatures) * 9 / 5 + 32\n",
    "    return fah\n",
    "    # raise NotImplementedError()"
   ]
  },
  {
   "cell_type": "code",
   "execution_count": 30,
   "metadata": {
    "tags": []
   },
   "outputs": [
    {
     "name": "stdout",
     "output_type": "stream",
     "text": [
      "\n",
      "Testing with a NumPy array:\n",
      "[32. 50. 68. 86.]\n"
     ]
    }
   ],
   "source": [
    "print(\"\\nTesting with a NumPy array:\")\n",
    "temps_array = np.array([0, 10, 20, 30])\n",
    "print(convert_to_fahrenheit_numpy_array(temps_array))"
   ]
  },
  {
   "cell_type": "markdown",
   "metadata": {
    "deletable": false,
    "nbgrader": {
     "checksum": "b3d04b9d8f041cd36e9dba1b8222db72",
     "grade": false,
     "grade_id": "cell-7985f59c89695efa",
     "locked": true,
     "schema_version": 3,
     "solution": false,
     "task": false
    }
   },
   "source": [
    "### Problem 2\n",
    "Use numpy to create a function that adds a border filled with zeros around an existing array.\n",
    "\n",
    "*Hint*: Use numpy's `pad` function. See https://numpy.org/doc/stable/reference/generated/numpy.pad.html\n",
    "\n",
    "Note: we did not cover this function in class, see if you are comfortable of reading numpy documents and learn on your own!"
   ]
  },
  {
   "cell_type": "code",
   "execution_count": 66,
   "metadata": {
    "deletable": false,
    "nbgrader": {
     "checksum": "51d7177dfb8191f1bee1f3e65868410f",
     "grade": false,
     "grade_id": "cell-2466342b05a17106",
     "locked": false,
     "schema_version": 3,
     "solution": true,
     "task": false
    },
    "tags": []
   },
   "outputs": [],
   "source": [
    "def add_border(x):\n",
    "    dimen = np.shape(x)\n",
    "    dim_zeros = np.shape(x)[0] + 2\n",
    "    dim_ones = np.shape(x)[1] + 2\n",
    "    zeros_arr = np.zeros((dim_zeros, dim_ones))\n",
    "    zeros_arr[1:(np.shape(x)[0] + 1), 1:(np.shape(x)[1] + 1)] = x\n",
    "    return zeros_arr\n",
    "    # raise NotImplementedError()"
   ]
  },
  {
   "cell_type": "code",
   "execution_count": 68,
   "metadata": {
    "deletable": false,
    "editable": false,
    "nbgrader": {
     "checksum": "9ed924325c1c02ece986c20232cab265",
     "grade": true,
     "grade_id": "cell-fb9bae34e3908aed",
     "locked": true,
     "points": 1,
     "schema_version": 3,
     "solution": false,
     "task": false
    },
    "tags": []
   },
   "outputs": [],
   "source": [
    "x = np.ones((1, 1))\n",
    "claimed = add_border(x)\n",
    "correct = np.zeros((3, 3))\n",
    "correct[1, 1] = 1.0\n",
    "assert claimed.shape == correct.shape\n",
    "assert np.all(np.abs(claimed - correct) < 1e-8)"
   ]
  },
  {
   "cell_type": "markdown",
   "metadata": {
    "deletable": false,
    "editable": false,
    "nbgrader": {
     "checksum": "7dcac8c8907d04878e6d9c5ab9cb4ea4",
     "grade": false,
     "grade_id": "cell-2d8e4884c404a310",
     "locked": true,
     "schema_version": 3,
     "solution": false,
     "task": false
    }
   },
   "source": [
    "### Problem 3\n",
    "Create an $n \\times n$ numpy array filled with a checkerboard pattern of zeros and ones. The first entry should be the integer `0`. Assume $n \\ge 2$."
   ]
  },
  {
   "cell_type": "code",
   "execution_count": 76,
   "metadata": {
    "tags": []
   },
   "outputs": [
    {
     "data": {
      "text/plain": [
       "array([0., 0., 0., 0., 0., 0., 0., 0., 0., 0., 0., 0., 0., 0., 0., 0., 0.,\n",
       "       0., 0., 0., 0., 0., 0., 0., 0., 0., 0., 0., 0., 0., 0., 0., 0., 0.,\n",
       "       0., 0., 0., 0., 0., 0., 0., 0., 0., 0., 0., 0., 0., 0., 0., 0., 0.,\n",
       "       0., 0., 0., 0., 0., 0., 0., 0., 0., 0., 0., 0., 0.])"
      ]
     },
     "execution_count": 76,
     "metadata": {},
     "output_type": "execute_result"
    }
   ],
   "source": [
    "np.zeros((8*8))"
   ]
  },
  {
   "cell_type": "code",
   "execution_count": 94,
   "metadata": {
    "deletable": false,
    "nbgrader": {
     "checksum": "b045f39c1dac00e24fc1b00a97596aec",
     "grade": false,
     "grade_id": "cell-9982d08b4ea7057d",
     "locked": false,
     "schema_version": 3,
     "solution": true,
     "task": false
    },
    "tags": []
   },
   "outputs": [],
   "source": [
    "def make_checkerboard(n):\n",
    "    one_dim = np.zeros((n, n))\n",
    "    for i in range(n): \n",
    "        if i % 2 == 0: \n",
    "            where_one = np.arange(1, n, 2) \n",
    "        else: \n",
    "            where_one = np.arange(0, n, 2) \n",
    "        one_dim[i, where_one] = 1\n",
    "    return one_dim\n",
    "    # YOUR CODE HERE\n",
    "    # raise NotImplementedError()"
   ]
  },
  {
   "cell_type": "code",
   "execution_count": 95,
   "metadata": {
    "tags": []
   },
   "outputs": [
    {
     "data": {
      "text/plain": [
       "array([[0., 1., 0., 1., 0., 1., 0., 1.],\n",
       "       [1., 0., 1., 0., 1., 0., 1., 0.],\n",
       "       [0., 1., 0., 1., 0., 1., 0., 1.],\n",
       "       [1., 0., 1., 0., 1., 0., 1., 0.],\n",
       "       [0., 1., 0., 1., 0., 1., 0., 1.],\n",
       "       [1., 0., 1., 0., 1., 0., 1., 0.],\n",
       "       [0., 1., 0., 1., 0., 1., 0., 1.],\n",
       "       [1., 0., 1., 0., 1., 0., 1., 0.]])"
      ]
     },
     "execution_count": 95,
     "metadata": {},
     "output_type": "execute_result"
    }
   ],
   "source": [
    "make_checkerboard(8)"
   ]
  },
  {
   "cell_type": "code",
   "execution_count": 96,
   "metadata": {
    "deletable": false,
    "editable": false,
    "nbgrader": {
     "checksum": "ce8e48a828fafe1d3a3a20efa3eef30d",
     "grade": true,
     "grade_id": "cell-e6f9eb1adf863ce2",
     "locked": true,
     "points": 1,
     "schema_version": 3,
     "solution": false,
     "task": false
    },
    "tags": []
   },
   "outputs": [],
   "source": [
    "correct = \\\n",
    "    [[0, 1, 0, 1, 0, 1, 0, 1],\n",
    "     [1, 0, 1, 0, 1, 0, 1, 0],\n",
    "     [0, 1, 0, 1, 0, 1, 0, 1],\n",
    "     [1, 0, 1, 0, 1, 0, 1, 0],\n",
    "     [0, 1, 0, 1, 0, 1, 0, 1],\n",
    "     [1, 0, 1, 0, 1, 0, 1, 0],\n",
    "     [0, 1, 0, 1, 0, 1, 0, 1],\n",
    "     [1, 0, 1, 0, 1, 0, 1, 0]]\n",
    "assert np.all(correct == make_checkerboard(8))"
   ]
  }
 ],
 "metadata": {
  "kernelspec": {